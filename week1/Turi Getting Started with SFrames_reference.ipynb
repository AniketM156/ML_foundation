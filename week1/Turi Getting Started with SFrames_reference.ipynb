{
 "cells": [
  {
   "cell_type": "markdown",
   "metadata": {},
   "source": [
    "# Fire up Turi Create\n",
    "\n",
    "We always start with this line before using any part of Turi Create"
   ]
  },
  {
   "cell_type": "code",
   "execution_count": 2,
   "metadata": {
    "scrolled": true
   },
   "outputs": [
    {
     "name": "stdout",
     "output_type": "stream",
     "text": [
      "Collecting turicreate\n",
      "  Using cached turicreate-6.4.tar.gz (1.9 kB)\n",
      "Building wheels for collected packages: turicreate\n",
      "  Building wheel for turicreate (setup.py): started\n",
      "  Building wheel for turicreate (setup.py): finished with status 'error'\n",
      "  Running setup.py clean for turicreate\n",
      "Failed to build turicreate\n",
      "Installing collected packages: turicreate\n",
      "    Running setup.py install for turicreate: started\n",
      "    Running setup.py install for turicreate: finished with status 'error'\n"
     ]
    },
    {
     "name": "stderr",
     "output_type": "stream",
     "text": [
      "  ERROR: Command errored out with exit status 1:\n",
      "   command: 'C:\\Users\\anike\\anaconda\\python.exe' -u -c 'import sys, setuptools, tokenize; sys.argv[0] = '\"'\"'C:\\\\Users\\\\anike\\\\AppData\\\\Local\\\\Temp\\\\pip-install-4zxysgy6\\\\turicreate\\\\setup.py'\"'\"'; __file__='\"'\"'C:\\\\Users\\\\anike\\\\AppData\\\\Local\\\\Temp\\\\pip-install-4zxysgy6\\\\turicreate\\\\setup.py'\"'\"';f=getattr(tokenize, '\"'\"'open'\"'\"', open)(__file__);code=f.read().replace('\"'\"'\\r\\n'\"'\"', '\"'\"'\\n'\"'\"');f.close();exec(compile(code, __file__, '\"'\"'exec'\"'\"'))' bdist_wheel -d 'C:\\Users\\anike\\AppData\\Local\\Temp\\pip-wheel-l74by1uz'\n",
      "       cwd: C:\\Users\\anike\\AppData\\Local\\Temp\\pip-install-4zxysgy6\\turicreate\\\n",
      "  Complete output (31 lines):\n",
      "  running bdist_wheel\n",
      "  running build\n",
      "  installing to build\\bdist.win-amd64\\wheel\n",
      "  running install\n",
      "  \n",
      "  \n",
      "  \n",
      "          ==================================================================================\n",
      "          TURICREATE ERROR\n",
      "  \n",
      "          If you see this message, pip install did not find an available binary package\n",
      "          for your system.\n",
      "  \n",
      "          Supported Platforms:\n",
      "              * macOS 10.12+ x86_64.\n",
      "              * Linux x86_64 (including WSL on Windows 10).\n",
      "  \n",
      "          Support Python Versions:\n",
      "              * 2.7\n",
      "              * 3.5\n",
      "              * 3.6\n",
      "              * 3.7\n",
      "              * 3.8\n",
      "  \n",
      "          Another possible cause of this error is an outdated pip version. Try:\n",
      "              `pip install -U pip`\n",
      "  \n",
      "          ==================================================================================\n",
      "  \n",
      "  \n",
      "  \n",
      "  ----------------------------------------\n",
      "  ERROR: Failed building wheel for turicreate\n",
      "    ERROR: Command errored out with exit status 1:\n",
      "     command: 'C:\\Users\\anike\\anaconda\\python.exe' -u -c 'import sys, setuptools, tokenize; sys.argv[0] = '\"'\"'C:\\\\Users\\\\anike\\\\AppData\\\\Local\\\\Temp\\\\pip-install-4zxysgy6\\\\turicreate\\\\setup.py'\"'\"'; __file__='\"'\"'C:\\\\Users\\\\anike\\\\AppData\\\\Local\\\\Temp\\\\pip-install-4zxysgy6\\\\turicreate\\\\setup.py'\"'\"';f=getattr(tokenize, '\"'\"'open'\"'\"', open)(__file__);code=f.read().replace('\"'\"'\\r\\n'\"'\"', '\"'\"'\\n'\"'\"');f.close();exec(compile(code, __file__, '\"'\"'exec'\"'\"'))' install --record 'C:\\Users\\anike\\AppData\\Local\\Temp\\pip-record-fl7741xq\\install-record.txt' --single-version-externally-managed --compile --install-headers 'C:\\Users\\anike\\anaconda\\Include\\turicreate'\n",
      "         cwd: C:\\Users\\anike\\AppData\\Local\\Temp\\pip-install-4zxysgy6\\turicreate\\\n",
      "    Complete output (28 lines):\n",
      "    running install\n",
      "    \n",
      "    \n",
      "    \n",
      "            ==================================================================================\n",
      "            TURICREATE ERROR\n",
      "    \n",
      "            If you see this message, pip install did not find an available binary package\n",
      "            for your system.\n",
      "    \n",
      "            Supported Platforms:\n",
      "                * macOS 10.12+ x86_64.\n",
      "                * Linux x86_64 (including WSL on Windows 10).\n",
      "    \n",
      "            Support Python Versions:\n",
      "                * 2.7\n",
      "                * 3.5\n",
      "                * 3.6\n",
      "                * 3.7\n",
      "                * 3.8\n",
      "    \n",
      "            Another possible cause of this error is an outdated pip version. Try:\n",
      "                `pip install -U pip`\n",
      "    \n",
      "            ==================================================================================\n",
      "    \n",
      "    \n",
      "    \n",
      "    ----------------------------------------\n",
      "ERROR: Command errored out with exit status 1: 'C:\\Users\\anike\\anaconda\\python.exe' -u -c 'import sys, setuptools, tokenize; sys.argv[0] = '\"'\"'C:\\\\Users\\\\anike\\\\AppData\\\\Local\\\\Temp\\\\pip-install-4zxysgy6\\\\turicreate\\\\setup.py'\"'\"'; __file__='\"'\"'C:\\\\Users\\\\anike\\\\AppData\\\\Local\\\\Temp\\\\pip-install-4zxysgy6\\\\turicreate\\\\setup.py'\"'\"';f=getattr(tokenize, '\"'\"'open'\"'\"', open)(__file__);code=f.read().replace('\"'\"'\\r\\n'\"'\"', '\"'\"'\\n'\"'\"');f.close();exec(compile(code, __file__, '\"'\"'exec'\"'\"'))' install --record 'C:\\Users\\anike\\AppData\\Local\\Temp\\pip-record-fl7741xq\\install-record.txt' --single-version-externally-managed --compile --install-headers 'C:\\Users\\anike\\anaconda\\Include\\turicreate' Check the logs for full command output.\n"
     ]
    },
    {
     "ename": "ModuleNotFoundError",
     "evalue": "No module named 'turicreate'",
     "output_type": "error",
     "traceback": [
      "\u001b[1;31m---------------------------------------------------------------------------\u001b[0m",
      "\u001b[1;31mModuleNotFoundError\u001b[0m                       Traceback (most recent call last)",
      "\u001b[1;32m<ipython-input-2-daefa21c5424>\u001b[0m in \u001b[0;36m<module>\u001b[1;34m\u001b[0m\n\u001b[0;32m      1\u001b[0m \u001b[0mget_ipython\u001b[0m\u001b[1;33m(\u001b[0m\u001b[1;33m)\u001b[0m\u001b[1;33m.\u001b[0m\u001b[0msystem\u001b[0m\u001b[1;33m(\u001b[0m\u001b[1;34m'pip install -U turicreate'\u001b[0m\u001b[1;33m)\u001b[0m\u001b[1;33m\u001b[0m\u001b[1;33m\u001b[0m\u001b[0m\n\u001b[1;32m----> 2\u001b[1;33m \u001b[1;32mimport\u001b[0m \u001b[0mturicreate\u001b[0m\u001b[1;33m\u001b[0m\u001b[1;33m\u001b[0m\u001b[0m\n\u001b[0m",
      "\u001b[1;31mModuleNotFoundError\u001b[0m: No module named 'turicreate'"
     ]
    }
   ],
   "source": [
    "!pip install -U turicreate\n",
    "import turicreate"
   ]
  },
  {
   "cell_type": "markdown",
   "metadata": {},
   "source": [
    "# Load a tabular data set"
   ]
  },
  {
   "cell_type": "code",
   "execution_count": null,
   "metadata": {},
   "outputs": [],
   "source": [
    "sf = turicreate.SFrame('people-example.csv')"
   ]
  },
  {
   "cell_type": "markdown",
   "metadata": {},
   "source": [
    "# SFrame basics"
   ]
  },
  {
   "cell_type": "code",
   "execution_count": null,
   "metadata": {},
   "outputs": [],
   "source": [
    "sf #we can view first few lines of table"
   ]
  },
  {
   "cell_type": "code",
   "execution_count": null,
   "metadata": {},
   "outputs": [],
   "source": [
    "sf.tail()  # view end of the table"
   ]
  },
  {
   "cell_type": "markdown",
   "metadata": {},
   "source": [
    "# Turi Create visualization"
   ]
  },
  {
   "cell_type": "code",
   "execution_count": null,
   "metadata": {},
   "outputs": [],
   "source": [
    "# .show() visualizes any data structure in Turi Create\n",
    "sf.show()"
   ]
  },
  {
   "cell_type": "code",
   "execution_count": null,
   "metadata": {},
   "outputs": [],
   "source": [
    "sf['age'].show()"
   ]
  },
  {
   "cell_type": "markdown",
   "metadata": {},
   "source": [
    "# Inspect columns of dataset"
   ]
  },
  {
   "cell_type": "code",
   "execution_count": null,
   "metadata": {},
   "outputs": [],
   "source": [
    "sf['Country']"
   ]
  },
  {
   "cell_type": "code",
   "execution_count": 5,
   "metadata": {},
   "outputs": [
    {
     "ename": "NameError",
     "evalue": "name 'sf' is not defined",
     "output_type": "error",
     "traceback": [
      "\u001b[1;31m---------------------------------------------------------------------------\u001b[0m",
      "\u001b[1;31mNameError\u001b[0m                                 Traceback (most recent call last)",
      "\u001b[1;32m<ipython-input-5-3866f9b6114c>\u001b[0m in \u001b[0;36m<module>\u001b[1;34m\u001b[0m\n\u001b[1;32m----> 1\u001b[1;33m \u001b[0msf\u001b[0m\u001b[1;33m[\u001b[0m\u001b[1;34m'age'\u001b[0m\u001b[1;33m]\u001b[0m\u001b[1;33m\u001b[0m\u001b[1;33m\u001b[0m\u001b[0m\n\u001b[0m",
      "\u001b[1;31mNameError\u001b[0m: name 'sf' is not defined"
     ]
    }
   ],
   "source": [
    "sf['age']"
   ]
  },
  {
   "cell_type": "markdown",
   "metadata": {},
   "source": [
    "Some simple columnar operations"
   ]
  },
  {
   "cell_type": "code",
   "execution_count": null,
   "metadata": {},
   "outputs": [],
   "source": [
    "sf['age'].mean()"
   ]
  },
  {
   "cell_type": "code",
   "execution_count": null,
   "metadata": {},
   "outputs": [],
   "source": [
    "sf['age'].max()"
   ]
  },
  {
   "cell_type": "markdown",
   "metadata": {},
   "source": [
    "# Create new columns in our SFrame"
   ]
  },
  {
   "cell_type": "code",
   "execution_count": null,
   "metadata": {},
   "outputs": [],
   "source": [
    "sf"
   ]
  },
  {
   "cell_type": "code",
   "execution_count": null,
   "metadata": {},
   "outputs": [],
   "source": [
    "sf['Full Name'] = sf['First Name'] + ' ' + sf['Last Name']"
   ]
  },
  {
   "cell_type": "code",
   "execution_count": null,
   "metadata": {},
   "outputs": [],
   "source": [
    "sf"
   ]
  },
  {
   "cell_type": "code",
   "execution_count": null,
   "metadata": {},
   "outputs": [],
   "source": [
    "sf['age'] * sf['age']"
   ]
  },
  {
   "cell_type": "markdown",
   "metadata": {},
   "source": [
    "# Use the apply function to do a advance transformation of our data"
   ]
  },
  {
   "cell_type": "code",
   "execution_count": null,
   "metadata": {},
   "outputs": [],
   "source": [
    "sf['Country']"
   ]
  },
  {
   "cell_type": "code",
   "execution_count": null,
   "metadata": {},
   "outputs": [],
   "source": [
    "sf['Country'].show()"
   ]
  },
  {
   "cell_type": "code",
   "execution_count": null,
   "metadata": {},
   "outputs": [],
   "source": [
    "def transform_country(country):\n",
    "    if country == 'USA':\n",
    "        return 'United States'\n",
    "    else:\n",
    "        return country"
   ]
  },
  {
   "cell_type": "code",
   "execution_count": null,
   "metadata": {},
   "outputs": [],
   "source": [
    "transform_country('Brazil')"
   ]
  },
  {
   "cell_type": "code",
   "execution_count": null,
   "metadata": {},
   "outputs": [],
   "source": [
    "transform_country('Brasil')"
   ]
  },
  {
   "cell_type": "code",
   "execution_count": null,
   "metadata": {},
   "outputs": [],
   "source": [
    "transform_country('USA')"
   ]
  },
  {
   "cell_type": "code",
   "execution_count": null,
   "metadata": {},
   "outputs": [],
   "source": [
    "sf['Country'].apply(transform_country)"
   ]
  },
  {
   "cell_type": "code",
   "execution_count": null,
   "metadata": {},
   "outputs": [],
   "source": [
    "sf['Country'] = sf['Country'].apply(transform_country)"
   ]
  },
  {
   "cell_type": "code",
   "execution_count": null,
   "metadata": {},
   "outputs": [],
   "source": [
    "sf"
   ]
  },
  {
   "cell_type": "code",
   "execution_count": null,
   "metadata": {},
   "outputs": [],
   "source": []
  }
 ],
 "metadata": {
  "kernelspec": {
   "display_name": "Python 3",
   "language": "python",
   "name": "python3"
  },
  "language_info": {
   "codemirror_mode": {
    "name": "ipython",
    "version": 3
   },
   "file_extension": ".py",
   "mimetype": "text/x-python",
   "name": "python",
   "nbconvert_exporter": "python",
   "pygments_lexer": "ipython3",
   "version": "3.8.5"
  }
 },
 "nbformat": 4,
 "nbformat_minor": 1
}
